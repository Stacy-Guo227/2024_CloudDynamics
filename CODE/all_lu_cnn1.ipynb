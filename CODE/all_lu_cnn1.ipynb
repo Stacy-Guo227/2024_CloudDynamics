{
 "cells": [
  {
   "cell_type": "markdown",
   "id": "7c92474f-8845-4c5e-83bc-232082648c80",
   "metadata": {},
   "source": [
    "## Import"
   ]
  },
  {
   "cell_type": "code",
   "execution_count": 1,
   "id": "2c647b30-4a81-4e4d-a6ee-e8348c1e9afe",
   "metadata": {},
   "outputs": [],
   "source": [
    "import numpy as np\n",
    "import os\n",
    "os.environ[\"CUDA_VISIBLE_DEVICES\"] = \"2\"\n",
    "import matplotlib.pyplot as plt\n",
    "import torch\n",
    "import torch.nn as nn\n",
    "import torch.nn.functional as F\n",
    "import torch.optim as optim\n",
    "import torch.utils.data as torchdata\n",
    "from torchvision.transforms import transforms\n",
    "from torchinfo import summary"
   ]
  },
  {
   "cell_type": "code",
   "execution_count": 2,
   "id": "f24b6d92-1a03-4bce-b10b-9a2b577cd98b",
   "metadata": {},
   "outputs": [],
   "source": [
    "import netCDF4 as nc\n",
    "import seaborn.colors.xkcd_rgb as c"
   ]
  },
  {
   "cell_type": "markdown",
   "id": "b3985be3-4e39-47da-8b18-65fde3eb4850",
   "metadata": {},
   "source": [
    "## Utilities"
   ]
  },
  {
   "cell_type": "code",
   "execution_count": 3,
   "id": "247c0755-e390-4076-b1fd-d67e88e43699",
   "metadata": {},
   "outputs": [],
   "source": [
    "myseed = 42\n",
    "torch.backends.cudnn.deterministic = True\n",
    "torch.backends.cudnn.benchmark = False\n",
    "np.random.seed(myseed)\n",
    "torch.manual_seed(myseed)\n",
    "if torch.cuda.is_available():\n",
    "    torch.cuda.manual_seed_all(myseed)"
   ]
  },
  {
   "cell_type": "code",
   "execution_count": 4,
   "id": "e45ffb18-0dcb-4d5e-ad92-11f0ea58c2be",
   "metadata": {},
   "outputs": [],
   "source": [
    "def get_device():\n",
    "    return torch.device(\"cuda\" if torch.cuda.is_available() else \"cpu\")"
   ]
  },
  {
   "cell_type": "markdown",
   "id": "e403f332-a647-4f44-9a34-96eadd5934bf",
   "metadata": {},
   "source": [
    "## Data"
   ]
  },
  {
   "cell_type": "code",
   "execution_count": 36,
   "id": "8095914b-f6de-4940-9312-975fb245fea1",
   "metadata": {},
   "outputs": [],
   "source": [
    "class PBLDataset():\n",
    "    def __init__(self, lu:str, proportion_list:list, jump_time:int=1):\n",
    "        self.lu          = lu         # land type\n",
    "        self.jump_time   = jump_time  # mapped adjustment time interval, defautl=1\n",
    "        self.propo_list  = proportion_list  # train/(val)/test proportion\n",
    "\n",
    "        self.day_num     = 3\n",
    "        self.ts_cover    = (0, 391+self.jump_time)  # 5:00 - 18:00 + jump time\n",
    "        self.ts_state_1d = (0, 391)                 # state (input) time cover, 1 day\n",
    "        \n",
    "        # Read data into numpy arrays (tsteps, var, lev)\n",
    "        ncs1 = nc.Dataset(f'/home/ch995334/2024ClDyn/TemporaryData/lu_profs/{lu}_1p0km.nc')\n",
    "        ncs2 = nc.Dataset(f'/home/ch995334/2024ClDyn/TemporaryData/lu_profs/{lu}_1p5km.nc')\n",
    "        ncs3 = nc.Dataset(f'/home/ch995334/2024ClDyn/TemporaryData/lu_profs/{lu}_2p0km.nc')\n",
    "        th_all_sd = np.concatenate((ncs1.variables['th'][:self.ts_state_1d[1], :].data, \n",
    "                                    ncs2.variables['th'][:self.ts_state_1d[1], :].data, \n",
    "                                    ncs3.variables['th'][:self.ts_state_1d[1], :].data), axis=0)\n",
    "        self.th_all_sd = th_all_sd\n",
    "        th_diff_all_sd = np.concatenate((ncs1.variables['th'][self.jump_time:self.ts_cover[1], :].data-ncs1.variables['th'][:self.ts_state_1d[1], :].data, \n",
    "                                         ncs2.variables['th'][self.jump_time:self.ts_cover[1], :].data-ncs2.variables['th'][:self.ts_state_1d[1], :].data, \n",
    "                                         ncs3.variables['th'][self.jump_time:self.ts_cover[1], :].data-ncs3.variables['th'][:self.ts_state_1d[1], :].data), axis=0)\n",
    "        # Shuffle-split index (the given proportion should be applied to all soundings)\n",
    "        subset_idx   = []\n",
    "        for d in range(self.day_num):\n",
    "            day_idx = np.arange(self.ts_state_1d[1]*(d), self.ts_state_1d[1]*(d+1))\n",
    "            np.random.shuffle(day_idx)\n",
    "            if d == 0:\n",
    "                subset_idx = np.split(day_idx, np.cumsum((np.array(self.propo_list)*day_idx.shape[0])[:-1]).astype(int))\n",
    "            else:\n",
    "                temp       = np.split(day_idx, np.cumsum((np.array(self.propo_list)*day_idx.shape[0])[:-1]).astype(int))\n",
    "                for i in range(len(self.propo_list)):\n",
    "                    subset_idx[i] = np.append(subset_idx[i], temp[i])\n",
    "        self.subset_idx= tuple(subset_idx)\n",
    "        # Normalization (whole-set), save Input and Target scalars\n",
    "        self.th_min, self.th_max           = np.min(th_all_sd), np.max(th_all_sd)\n",
    "        self.th_diff_min, self.th_diff_max = np.min(th_diff_all_sd), np.max(th_diff_all_sd)\n",
    "        th_norm      = (th_all_sd-self.th_min)/(self.th_max-self.th_min)\n",
    "        th_diff_norm = (th_diff_all_sd-self.th_diff_min)/(self.th_diff_max-self.th_diff_min)\n",
    "        \n",
    "        # Create data tensor and dataset\n",
    "        if len(self.propo_list) == 3:\n",
    "            self.TrainIdx,   self.ValIdx,   self.TestIdx   = self.subset_idx\n",
    "            self.InputTrain, self.InputVal, self.InputTest = torch.FloatTensor(th_norm[self.trainIdx, np.newaxis, :]),\\\n",
    "                                                             torch.FloatTensor(th_norm[self.valIdx, np.newaxis, :]),\\\n",
    "                                                             torch.FloatTensor(th_norm[self.testIdx, np.newaxis, :])\n",
    "            self.TargetTrain,self.TargetVal,self.TargetTest= torch.FloatTensor(th_diff_norm[self.trainIdx, np.newaxis, :]),\\\n",
    "                                                             torch.FloatTensor(th_diff_norm[self.valIdx, np.newaxis, :]),\\\n",
    "                                                             torch.FloatTensor(th_diff_norm[self.testIdx, np.newaxis, :])\n",
    "            \n",
    "            self.TrainDataset = torchdata.TensorDataset(self.InputTrain, self.TargetTrain)\n",
    "            self.ValDataset   = torchdata.TensorDataset(self.InputVal, self.TargetVal)\n",
    "            self.TestDataset  = torchdata.TensorDataset(self.InputTest, self.TargetTest)\n",
    "        elif len(self.propo_list) == 2:\n",
    "            self.trainIdx,   self.testIdx   = self.subset_idx\n",
    "            self.InputTrain, self.InputTest = torch.FloatTensor(th_norm[self.trainIdx, np.newaxis, :]),\\\n",
    "                                              torch.FloatTensor(th_norm[self.testIdx, np.newaxis, :])\n",
    "            self.TargetTrain,self.TargetTest= torch.FloatTensor(th_diff_norm[self.trainIdx, np.newaxis, :]),\\\n",
    "                                              torch.FloatTensor(th_diff_norm[self.testIdx, np.newaxis, :])\n",
    "            \n",
    "            self.TrainDataset = torchdata.TensorDataset(self.InputTrain, self.TargetTrain)\n",
    "            self.TestDataset  = torchdata.TensorDataset(self.InputTest, self.TargetTest)\n",
    "        print(f\"Finished creating the PBL dataset for land type {lu.upper()}.\")\n",
    "        print(f\"Current input:  theta state profile\")\n",
    "        print(f\"Current target: theta adjustemnt with jump-time = {self.jump_time}\")"
   ]
  },
  {
   "cell_type": "markdown",
   "id": "f2020828-920f-4b4a-a3fc-36d06b1787ca",
   "metadata": {},
   "source": [
    "## NN Model"
   ]
  },
  {
   "cell_type": "markdown",
   "id": "29f6aff4-c3bf-40ad-b0e1-a731c515077b",
   "metadata": {},
   "source": [
    "### Model structure"
   ]
  },
  {
   "cell_type": "code",
   "execution_count": 7,
   "id": "b2593465-78f4-4b4d-bfc9-f8cea428ca97",
   "metadata": {
    "collapsed": true,
    "jupyter": {
     "outputs_hidden": true
    }
   },
   "outputs": [
    {
     "data": {
      "text/plain": [
       "==========================================================================================\n",
       "Layer (type:depth-idx)                   Output Shape              Param #\n",
       "==========================================================================================\n",
       "CNN1D                                    [32, 75]                  --\n",
       "├─Conv1d: 1-1                            [32, 16, 73]              64\n",
       "├─ReLU: 1-2                              [32, 16, 73]              --\n",
       "├─Conv1d: 1-3                            [32, 32, 71]              1,568\n",
       "├─ReLU: 1-4                              [32, 32, 71]              --\n",
       "├─Flatten: 1-5                           [32, 2272]                --\n",
       "├─Linear: 1-6                            [32, 64]                  145,472\n",
       "├─ReLU: 1-7                              [32, 64]                  --\n",
       "├─Linear: 1-8                            [32, 75]                  4,875\n",
       "==========================================================================================\n",
       "Total params: 151,979\n",
       "Trainable params: 151,979\n",
       "Non-trainable params: 0\n",
       "Total mult-adds (Units.MEGABYTES): 8.52\n",
       "==========================================================================================\n",
       "Input size (MB): 0.01\n",
       "Forward/backward pass size (MB): 0.92\n",
       "Params size (MB): 0.61\n",
       "Estimated Total Size (MB): 1.53\n",
       "=========================================================================================="
      ]
     },
     "execution_count": 7,
     "metadata": {},
     "output_type": "execute_result"
    }
   ],
   "source": [
    "class CNN1D(nn.Module):\n",
    "    def __init__(self, input_var_num:int):\n",
    "        super(CNN1D, self).__init__()\n",
    "        self.conv1 = nn.Conv1d(in_channels=input_var_num, out_channels=16, kernel_size=3, stride=1) # no padding, -2\n",
    "        self.conv2 = nn.Conv1d(in_channels=16, out_channels=32, kernel_size=3, stride=1)  # no padding, -2\n",
    "        self.fc1 = nn.Linear(32*71, 64)  # 71 = 75-2-2\n",
    "        self.fc2 = nn.Linear(64, 75)\n",
    "        self.relu = nn.ReLU()\n",
    "        self.flatten = nn.Flatten()\n",
    "\n",
    "    def forward(self, x):\n",
    "        x = self.relu(self.conv1(x))\n",
    "        x = self.relu(self.conv2(x))\n",
    "        x = self.flatten(x)\n",
    "        x = self.relu(self.fc1(x))\n",
    "        x = self.fc2(x)\n",
    "        return x\n",
    "\n",
    "model_demo = CNN1D(input_var_num=1)\n",
    "summary(model_demo, input_size=(32,1,75), device=\"cuda\")"
   ]
  },
  {
   "cell_type": "markdown",
   "id": "17ef8df0-5cc5-4061-9a48-bcc6eb5ef50e",
   "metadata": {},
   "source": [
    "### Training func"
   ]
  },
  {
   "cell_type": "code",
   "execution_count": 13,
   "id": "8deb72f4-6d1b-4cb0-a0a4-8386fb8c80a6",
   "metadata": {},
   "outputs": [],
   "source": [
    "def train(model_to_train, train_loader, val_loader, config:dict, device):\n",
    "    # Loss and optimizer\n",
    "    criterion = nn.MSELoss()\n",
    "    optimizer = getattr(torch.optim, config['optimizer'])(model_to_train.parameters(), **config['optim_hparas'])\n",
    "    # Training loop\n",
    "    loss_log  = {'train':[], 'val':[]}\n",
    "    for epoch in range(config['epochs']):\n",
    "        model_to_train.train()\n",
    "        train_loss  = 0\n",
    "        for inputs, targets in train_loader:   # batch = (inputs, targets)\n",
    "            inputs, targets = inputs.to(device, dtype=torch.float), targets.to(device, dtype=torch.float)\n",
    "            optimizer.zero_grad()\n",
    "            outputs = model_to_train(inputs)\n",
    "            loss    = criterion(outputs, targets)\n",
    "            loss.backward()    # back propagate gradient\n",
    "            optimizer.step()   # update model with opitmizer\n",
    "            train_loss += loss.item()\n",
    "        loss_log['train'].append(train_loss / len(train_loader))  # loss averaged over batches\n",
    "\n",
    "        # Validation\n",
    "        model_to_train.eval()\n",
    "        val_loss = 0\n",
    "        with torch.no_grad():\n",
    "            for inputs, targets in val_loader:\n",
    "                inputs, targets = inputs.to(device, dtype=torch.float), targets.to(device, dtype=torch.float)\n",
    "                outputs = model_to_train(inputs)\n",
    "                loss = criterion(outputs, targets)\n",
    "                val_loss += loss.item()\n",
    "        loss_log['val'].append(val_loss/len(val_loader))\n",
    "        # Print loss on screen\n",
    "        if epoch%10 == 0:\n",
    "            print(f\"Epoch {epoch + 1}/{config['epochs']}, Train Loss: {train_loss/len(train_loader):.4f}, Val Loss: {val_loss/len(val_loader):.4f}\")\n",
    "    return model_to_train, loss_log"
   ]
  },
  {
   "cell_type": "markdown",
   "id": "b8e988fb-cdb2-45a3-8f1b-79e52e04abec",
   "metadata": {},
   "source": [
    "### Prediction func"
   ]
  },
  {
   "cell_type": "code",
   "execution_count": 22,
   "id": "11492621-f1bd-4da3-8104-e0ce2525ff87",
   "metadata": {},
   "outputs": [],
   "source": [
    "def predict(trained_model, test_loader, device):\n",
    "    # Get prediction\n",
    "    trained_model.eval()\n",
    "    counter = 0\n",
    "    with torch.no_grad():                     # disable gradient descend\n",
    "        for batch in test_loader:\n",
    "            if len(batch) == 2:\n",
    "                inputs, targets = batch\n",
    "            elif len(batch) == 1:\n",
    "                inputs = batch[0]\n",
    "            inputs = inputs.to(device, dtype=torch.float)\n",
    "            pred   = trained_model(inputs)\n",
    "            if counter < 1:\n",
    "                preds = pred.detach().cpu().numpy()\n",
    "                print(preds.shape)\n",
    "            else:\n",
    "                preds = np.concatenate((preds, pred.detach().cpu().numpy()), axis=0)\n",
    "            counter += 1\n",
    "    return preds"
   ]
  },
  {
   "cell_type": "markdown",
   "id": "158b6938-d766-4ae3-8564-105dd4e666ba",
   "metadata": {},
   "source": [
    "### Save and Load models"
   ]
  },
  {
   "cell_type": "code",
   "execution_count": 20,
   "id": "ce92c6cc-0ccf-424b-ac21-cdeda088e4a6",
   "metadata": {},
   "outputs": [],
   "source": [
    "def save_model(model, savepath:str):\n",
    "    model.eval()\n",
    "    torch.save(model.state_dict(), f\"{savepath}_state.pt\")"
   ]
  },
  {
   "cell_type": "code",
   "execution_count": 21,
   "id": "9e749031-f9b0-4c24-8a43-2d3b1e3cabb2",
   "metadata": {},
   "outputs": [],
   "source": [
    "def load_model(model_instance, savepath:str):\n",
    "    \"\"\"\n",
    "    `model_instance` should be the exact same in structure with what this function is loading.\n",
    "    \"\"\"\n",
    "    model_instance.load_state_dict(torch.load(f\"{savepath}_state.pt\", weights_only=True))\n",
    "    return model_instance"
   ]
  },
  {
   "cell_type": "markdown",
   "id": "6c96604f-41ce-43be-a5e6-cc0640566e15",
   "metadata": {},
   "source": [
    "## Main"
   ]
  },
  {
   "cell_type": "markdown",
   "id": "597fc323-3ee1-4665-99a0-b9eff246f698",
   "metadata": {},
   "source": [
    "### Setup hparams config"
   ]
  },
  {
   "cell_type": "code",
   "execution_count": 11,
   "id": "2bcee03d-2fda-47b3-a205-c9b05bbbc88e",
   "metadata": {},
   "outputs": [],
   "source": [
    "config = {'epochs':200, \n",
    "          'batch_size':32, \n",
    "          'optimizer':'Adam', \n",
    "          'optim_hparas':{'lr':0.001}}"
   ]
  },
  {
   "cell_type": "code",
   "execution_count": 41,
   "id": "18b99db4-91fb-4ff7-911e-c0d241cd5a9b",
   "metadata": {},
   "outputs": [
    {
     "name": "stdout",
     "output_type": "stream",
     "text": [
      "cuda\n"
     ]
    }
   ],
   "source": [
    "device = get_device()\n",
    "print(device)"
   ]
  },
  {
   "cell_type": "markdown",
   "id": "9e383a4d-3988-4355-acdd-ace550c90917",
   "metadata": {},
   "source": [
    "### Generate data and initiate model"
   ]
  },
  {
   "cell_type": "code",
   "execution_count": null,
   "id": "ce1c8339-82a2-4dae-b2c9-3e6b0c9652d1",
   "metadata": {},
   "outputs": [],
   "source": [
    "def GenerateData(lu:str):\n",
    "case_data = PBLDataset(lu)\n",
    "trainset, testset\n",
    "\n",
    "return data_dict"
   ]
  },
  {
   "cell_type": "code",
   "execution_count": null,
   "id": "797e8603-713d-4492-b37d-fbf71ef098d9",
   "metadata": {},
   "outputs": [],
   "source": [
    "model_init"
   ]
  },
  {
   "cell_type": "markdown",
   "id": "4541e16f-d786-4b6a-a6e2-0fb673da70f4",
   "metadata": {},
   "source": [
    "### Start Training!"
   ]
  },
  {
   "cell_type": "code",
   "execution_count": null,
   "id": "a9f2dd4b-3627-4805-b6c8-cb99dec7a340",
   "metadata": {},
   "outputs": [],
   "source": [
    "train_loader = torchdata.dataloader(data_dict['TrainDataset'], batch_size=config['batch_size'])\n",
    "test_loader  = torchdata.dataloader(data_dict['TestDataset'], batch_size=1)\n",
    "trained_model, loss_log = train(model_init, train_loader, test_loader, device)\n",
    "trained_model.eval()\n",
    "prediction   = predict(trained_model, test_loader, device)\n",
    "nn_dict      = {'trained_model':, 'loss_log':, 'prediction':}"
   ]
  },
  {
   "cell_type": "markdown",
   "id": "4e5baa8e-fd93-4067-abb9-d8b29ddc3b77",
   "metadata": {},
   "source": [
    "(Optional) Save trained model"
   ]
  },
  {
   "cell_type": "code",
   "execution_count": null,
   "id": "c659f787-7369-4725-a7b3-ad3c4c1a9c26",
   "metadata": {},
   "outputs": [],
   "source": [
    "save_model(trained_model, savepath=)\n",
    "del trained_model"
   ]
  },
  {
   "cell_type": "markdown",
   "id": "ff3bf9b3-c848-4178-95b4-c89fb7aa5eb6",
   "metadata": {},
   "source": [
    "## Test"
   ]
  },
  {
   "cell_type": "markdown",
   "id": "f2ff973f-ce94-464f-a5e3-8a19ea2a79b9",
   "metadata": {},
   "source": [
    "### Thoughts dump"
   ]
  },
  {
   "cell_type": "code",
   "execution_count": 10,
   "id": "e57fdd86-1e7d-49e3-972d-7d8ea77bbcf9",
   "metadata": {},
   "outputs": [
    {
     "data": {
      "text/plain": [
       "torch.optim.adam.Adam"
      ]
     },
     "execution_count": 10,
     "metadata": {},
     "output_type": "execute_result"
    }
   ],
   "source": [
    "getattr(torch.optim, 'Adam')"
   ]
  },
  {
   "cell_type": "code",
   "execution_count": 29,
   "id": "dbaeddd2-cb79-477e-a48e-cb9dad9df6d4",
   "metadata": {
    "scrolled": true
   },
   "outputs": [],
   "source": [
    "a = np.arange(10)\n",
    "np.random.shuffle(a)"
   ]
  },
  {
   "cell_type": "code",
   "execution_count": 32,
   "id": "f6b8fee5-dcb2-4a69-b82f-13504d24e16b",
   "metadata": {},
   "outputs": [
    {
     "data": {
      "text/plain": [
       "[array([2, 9, 0, 7, 4, 6, 1, 5]), array([8, 3])]"
      ]
     },
     "execution_count": 32,
     "metadata": {},
     "output_type": "execute_result"
    }
   ],
   "source": [
    "np.split(a, np.cumsum((np.array([0.8, 0.2])*a.shape[0])[:-1]).astype(int))\n",
    "# np.split(day_idx, np.cumsum((np.array(self.propo_list)*day_idx.shape[0])[:-1]).astype(int))"
   ]
  },
  {
   "cell_type": "code",
   "execution_count": 33,
   "id": "f0b479af-3820-4f6c-b48a-d467a6f6f91a",
   "metadata": {},
   "outputs": [
    {
     "data": {
      "text/plain": [
       "array([0., 1., 2., 3., 4., 1., 1., 1., 1.])"
      ]
     },
     "execution_count": 33,
     "metadata": {},
     "output_type": "execute_result"
    }
   ],
   "source": [
    "np.append(np.arange(5), np.ones(4))"
   ]
  },
  {
   "cell_type": "markdown",
   "id": "98694c3f-599c-4abf-b0c2-4762fabe6db4",
   "metadata": {},
   "source": [
    "### Dataset Class"
   ]
  },
  {
   "cell_type": "code",
   "execution_count": 37,
   "id": "ac7ce6e2-64cc-4319-8dba-6b6d50e05ddb",
   "metadata": {},
   "outputs": [
    {
     "name": "stdout",
     "output_type": "stream",
     "text": [
      "Finished creating the PBL dataset for land type PB.\n",
      "Current input:  theta state profile\n",
      "Current target: theta adjustemnt with jump-time = 1\n"
     ]
    }
   ],
   "source": [
    "ds_class_temp = PBLDataset(lu='pb', proportion_list=[0.8, 0.2])"
   ]
  },
  {
   "cell_type": "code",
   "execution_count": 38,
   "id": "fdbebf9c-0b1a-4705-b6f0-adbfd407d437",
   "metadata": {},
   "outputs": [
    {
     "data": {
      "text/plain": [
       "<torch.utils.data.dataset.TensorDataset at 0x7f4099a87c20>"
      ]
     },
     "execution_count": 38,
     "metadata": {},
     "output_type": "execute_result"
    }
   ],
   "source": [
    "ds_class_temp.TrainDataset"
   ]
  },
  {
   "cell_type": "code",
   "execution_count": 13,
   "id": "c2b0a6d4-7d4c-4cb2-8875-ec57d3787a6c",
   "metadata": {},
   "outputs": [
    {
     "data": {
      "text/plain": [
       "[<matplotlib.lines.Line2D at 0x7f4099a2ffb0>]"
      ]
     },
     "execution_count": 13,
     "metadata": {},
     "output_type": "execute_result"
    },
    {
     "data": {
      "image/png": "[encoded data removed]",
      "text/plain": [
       "<Figure size 640x480 with 1 Axes>"
      ]
     },
     "metadata": {},
     "output_type": "display_data"
    }
   ],
   "source": [
    "plt.plot(ds_class_temp.TargetTest[5, 0, :], np.arange(75))\n",
    "plt.plot(ds_class_temp.TargetTest[35, 0, :], np.arange(75))\n",
    "plt.plot(ds_class_temp.TargetTest[200, 0, :], np.arange(75))"
   ]
  },
  {
   "cell_type": "code",
   "execution_count": null,
   "id": "ce0592d4-5252-4591-b1cb-3098e000d0f4",
   "metadata": {},
   "outputs": [],
   "source": []
  }
 ],
 "metadata": {
  "kernelspec": {
   "display_name": "Python 3 (ipykernel)",
   "language": "python",
   "name": "python3"
  },
  "language_info": {
   "codemirror_mode": {
    "name": "ipython",
    "version": 3
   },
   "file_extension": ".py",
   "mimetype": "text/x-python",
   "name": "python",
   "nbconvert_exporter": "python",
   "pygments_lexer": "ipython3",
   "version": "3.12.3"
  }
 },
 "nbformat": 4,
 "nbformat_minor": 5
}
