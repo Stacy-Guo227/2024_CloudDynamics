{
 "cells": [
  {
   "cell_type": "markdown",
   "id": "9b65037c",
   "metadata": {},
   "source": [
    "### Import"
   ]
  },
  {
   "cell_type": "code",
   "execution_count": null,
   "id": "e1dc97e3",
   "metadata": {},
   "outputs": [],
   "source": [
    "import numpy as np\n",
    "import xarray as xr\n",
    "from datetime import *\n",
    "import matplotlib.pyplot as plt\n",
    "import matplotlib.colors as colors\n",
    "import seaborn.colors.xkcd_rgb as c\n",
    "import cmaps\n",
    "import cartopy.crs as ccrs\n",
    "import cartopy.feature as cfeature"
   ]
  },
  {
   "cell_type": "markdown",
   "id": "0eee0df1",
   "metadata": {},
   "source": [
    "### Energy Time Series"
   ]
  },
  {
   "cell_type": "code",
   "execution_count": null,
   "id": "8fb67c34",
   "metadata": {},
   "outputs": [],
   "source": [
    "ds_sfc = xr.open_mfdataset(f'/data/mlcloud/ch995334/VVM/DATA/pbl_control_dt/archive/pbl_control_dt.C.Surface*')"
   ]
  },
  {
   "cell_type": "code",
   "execution_count": null,
   "id": "e31c0def",
   "metadata": {},
   "outputs": [],
   "source": [
    "ds_rad = xr.open_mfdataset(f'/data/mlcloud/ch995334/VVM/DATA/pbl_control_dt/archive/pbl_control_dt.L.Radiation*')"
   ]
  },
  {
   "cell_type": "code",
   "execution_count": null,
   "id": "6d16b755",
   "metadata": {},
   "outputs": [],
   "source": [
    "# Surface flux of potential temperature\n",
    "da_THF = ds_sfc.wth\n",
    "# Surface flux of potential water vapor\n",
    "da_QV  = ds_sfc.wqv"
   ]
  },
  {
   "cell_type": "code",
   "execution_count": null,
   "id": "dec5f8ce",
   "metadata": {},
   "outputs": [],
   "source": [
    "# Downward SW @ TOA\n",
    "da_dsw = ds_rad.fdswtoa"
   ]
  },
  {
   "cell_type": "code",
   "execution_count": null,
   "id": "f6a0d66d",
   "metadata": {},
   "outputs": [],
   "source": [
    "fig, ax = plt.subplots(figsize=(8, 6))\n",
    "ax.grid(':', linewidth=0.5)\n",
    "lsw     = ax.plot(np.arange(da_dsw.shape[0]), da_dsw[:, 0, 0], 'k', linewidth=3, label='SW @ TOA')\n",
    "lth     = ax.plot(np.arange(da_THF.shape[0]), da_THF[:, 0, 0]*1004, c['reddish'], linewidth=3, label=r'$\\theta$ flux')\n",
    "lqv     = ax.plot(np.arange(da_QV.shape[0]), da_QV[:, 0, 0], c['bluish'], linewidth=3, label=r'qv flux')\n",
    "ax.set_xlim(0, 1441)\n",
    "ax.set_xlabel('LST', fontsize=16)\n",
    "ax.set_xticks((np.array([6, 12, 18, 24])-5)*60)\n",
    "ax.set_xticklabels([f'{i}:00' for i in range(6, 25, 6)], fontsize=14)\n",
    "ax.set_ylim(-15, 800)\n",
    "ax.set_ylabel('(W/$m^{2}$)', fontsize=16)\n",
    "ax.set_yticks(np.arange(0, 800.1, 100))\n",
    "ax.set_yticklabels(np.arange(0, 800.1, 100).astype(int), fontsize=14)\n",
    "ax.set_title('PBL_control', loc='left', fontsize=16)\n",
    "ax.set_title('(1, 1)', loc='right', fontsize=16)\n",
    "ax.legend(fontsize=16)\n",
    "plt.savefig('/data/mlcloud/ch995334/hw1/tseries_dt5.png', facecolor='w', bbox_inches='tight', dpi=400)"
   ]
  },
  {
   "cell_type": "markdown",
   "id": "97406cbd",
   "metadata": {},
   "source": [
    "### var profile"
   ]
  },
  {
   "cell_type": "code",
   "execution_count": null,
   "id": "e7978a20",
   "metadata": {},
   "outputs": [],
   "source": [
    "ds_dyn = xr.open_mfdataset(f'/data/mlcloud/ch995334/VVM/DATA/pbl_control_dt/archive/pbl_control_dt.L.Dynamic*')"
   ]
  },
  {
   "cell_type": "code",
   "execution_count": null,
   "id": "27bec422",
   "metadata": {},
   "outputs": [],
   "source": [
    "ds_thm = xr.open_mfdataset(f'/data/mlcloud/ch995334/VVM/DATA/pbl_control_dt/archive/pbl_control_dt.L.Thermodynamic*')"
   ]
  },
  {
   "cell_type": "code",
   "execution_count": null,
   "id": "546948e5",
   "metadata": {},
   "outputs": [],
   "source": [
    "da_u   = ds_dyn.u\n",
    "da_v   = ds_dyn.v\n",
    "da_w   = ds_dyn.w"
   ]
  },
  {
   "cell_type": "code",
   "execution_count": null,
   "id": "687be6bc",
   "metadata": {},
   "outputs": [],
   "source": [
    "da_t   = ds_thm.th\n",
    "da_qv  = ds_thm.qv"
   ]
  },
  {
   "cell_type": "code",
   "execution_count": null,
   "id": "fbfd533d",
   "metadata": {},
   "outputs": [],
   "source": [
    "level  = ds_dyn.lev"
   ]
  },
  {
   "cell_type": "code",
   "execution_count": null,
   "id": "9bc75f57",
   "metadata": {
    "scrolled": true
   },
   "outputs": [],
   "source": [
    "fig, ax = plt.subplots(1, 4, figsize=(10, 6), sharey=True, gridspec_kw={'wspace':0.25})\n",
    "# Grid lines for all subplots\n",
    "ax[0].grid(':', linewidth=0.5)\n",
    "ax[1].grid(':', linewidth=0.5)\n",
    "ax[2].grid(':', linewidth=0.5)\n",
    "ax[3].grid(':', linewidth=0.5)\n",
    "# Required time stamp (LST)\n",
    "tstamp = np.insert((np.array([6, 12, 18, 24])-5)*60, 0, 0)\n",
    "# Line label\n",
    "llabel = ['Init.', '0600', '1200', '1800', '0000']\n",
    "# Line color\n",
    "lcolor = ['black', 'bluish', 'sage', 'gold', 'scarlet']\n",
    "for tt in range(tstamp.shape[0]):\n",
    "    # U plot\n",
    "    ax[0].plot(da_u[tstamp[tt], :, 0, 0], level, linewidth=3, color=c[lcolor[tt]])\n",
    "    # V plot\n",
    "    ax[1].plot(da_v[tstamp[tt], :, 0, 0], level, linewidth=3, color=c[lcolor[tt]])\n",
    "    # Theta plot\n",
    "    ax[2].plot(da_t[tstamp[tt], :, 0, 0], level, linewidth=3, color=c[lcolor[tt]])\n",
    "    # qv plot\n",
    "    ax[3].plot(da_qv[tstamp[tt], :, 0, 0], level, linewidth=3, color=c[lcolor[tt]], label=llabel[tt])\n",
    "# Info. settings\n",
    "ax[3].legend(fontsize=12)\n",
    "ax[0].set_title('U (m/s)', fontsize=16)\n",
    "ax[0].set_ylim(0, 2)\n",
    "ax[0].set_yticks(np.arange(0, 2.1, 0.25))\n",
    "ax[0].set_yticklabels(np.arange(0, 2.1, 0.25), fontsize=12)\n",
    "ax[0].set_ylabel('Height (km)', fontsize=14)\n",
    "ax[0].set_xlim(-2.5, 2.5)\n",
    "ax[0].set_xticks(np.arange(-2, 2.1, 2))\n",
    "ax[0].set_xticklabels(np.arange(-2, 2.1, 2).astype(int), fontsize=12)\n",
    "ax[1].set_title('V (m/s)', fontsize=16)\n",
    "ax[1].set_xlim(-2.5, 2.5)\n",
    "ax[1].set_xticks(np.arange(-2, 2.1, 2))\n",
    "ax[1].set_xticklabels(np.arange(-2, 2.1, 2).astype(int), fontsize=12)\n",
    "ax[2].set_title(r'$\\theta$ (K)', fontsize=16)\n",
    "ax[2].set_xlim(280, 310)\n",
    "ax[2].set_xticks(np.array([290, 300]))\n",
    "ax[2].set_xticklabels(np.array([290, 300]).astype(int), fontsize=12)\n",
    "ax[3].set_title('qv (kg/kg)', fontsize=16)\n",
    "ax[3].set_xlim(0, 2e-5)\n",
    "ax[3].set_xticks(np.arange(0, 2.5e-5, 1e-5))\n",
    "ax[3].set_xticklabels(np.arange(0, 2.5e-5, 1e-5), fontsize=14)\n",
    "plt.savefig('/data/mlcloud/ch995334/hw1/4profile_dt5.png', facecolor='w', bbox_inches='tight', dpi=400)"
   ]
  },
  {
   "cell_type": "markdown",
   "id": "c1799bd1",
   "metadata": {},
   "source": [
    "### 2D map @ 1000m (-> animation)"
   ]
  },
  {
   "cell_type": "code",
   "execution_count": null,
   "id": "0c1b9320",
   "metadata": {},
   "outputs": [],
   "source": [
    "# 1000m = level 26 (python idx 25)\n",
    "pi1000 = 0.967    #T=theta*pi"
   ]
  },
  {
   "cell_type": "code",
   "execution_count": null,
   "id": "ed530b73",
   "metadata": {},
   "outputs": [],
   "source": [
    "# Field 1000m\n",
    "u1000 = da_u.isel(lev=25)\n",
    "v1000 = da_v.isel(lev=25)\n",
    "w1000 = da_w.isel(lev=25)\n",
    "qv1000= da_qv.isel(lev=25)\n",
    "T1000 = da_t.isel(lev=25)*pi1000"
   ]
  },
  {
   "cell_type": "code",
   "execution_count": null,
   "id": "91e6bca3",
   "metadata": {},
   "outputs": [],
   "source": [
    "datetest = datetime(2024, 1, 1, 5, 0, 0)\n",
    "datenew  = datetest+timedelta(minutes=1)\n",
    "print(datetest, datenew)\n",
    "print(datenew.strftime('%H:%M'))"
   ]
  },
  {
   "cell_type": "code",
   "execution_count": null,
   "id": "869f0e01",
   "metadata": {},
   "outputs": [],
   "source": [
    "# Wind field 1000m\n",
    "time_now    = datetime(2024, 1, 1, 5, 0, 0)\n",
    "for tt in range(u1000.shape[0]):\n",
    "    fig, ax = plt.subplots(figsize=(6, 6))\n",
    "    imw     = ax.imshow(w1000[tt, ...], vmin=-2, vmax=2, origin='lower', cmap=cmaps.MPL_RdBu)\n",
    "    ax.quiver(np.arange(128)[::4], np.arange(128)[::4], u1000[tt, ::4, ::4], v1000[tt, ::4, ::4])\n",
    "    cax     = fig.add_axes([ax.get_position().x1+0.015, ax.get_position().y0, 0.02, ax.get_position().height])\n",
    "    cbar    = fig.colorbar(imw, cax=cax, extend='both')\n",
    "    cbar.ax.tick_params(labelsize=14)\n",
    "    cbar.set_label(label='w (m/s)', fontsize=14)\n",
    "    ax.set_xticks(np.arange(0, 128.1, 40))\n",
    "    ax.set_xticklabels(np.arange(0, 128.1, 40)*0.2, fontsize=14)\n",
    "    ax.set_xlabel('km', fontsize=14)\n",
    "    ax.set_yticks(np.arange(0, 128.1, 40))\n",
    "    ax.set_yticklabels(np.arange(0, 128.1, 40)*0.2, fontsize=14)\n",
    "    ax.set_ylabel('km', fontsize=14)\n",
    "    ax.set_title('Wind Field @ 1000m', loc='left', fontsize=16)\n",
    "    ax.set_title(time_now.strftime('%H:%M'), loc='right', fontsize=16)\n",
    "    plt.savefig(f'/data/mlcloud/ch995334/hw1/wind_animation/dt5_{time_now.strftime(\"%d%H%M\")}.png', \n",
    "                facecolor='w', bbox_inches='tight', dpi=400)\n",
    "    time_now= time_now+timedelta(minutes=1)"
   ]
  },
  {
   "cell_type": "code",
   "execution_count": null,
   "id": "427ae849",
   "metadata": {
    "tags": []
   },
   "outputs": [],
   "source": [
    "# Temp. field 1000m\n",
    "time_now    = datetime(2024, 1, 1, 5, 0, 0)\n",
    "for tt in range(u1000.shape[0]):\n",
    "    fig, ax = plt.subplots(figsize=(6, 6))\n",
    "    imT     = ax.imshow(T1000[tt, ...], vmin=286.6, vmax=287.6, origin='lower', cmap=cmaps.cmocean_matter)\n",
    "    cax     = fig.add_axes([ax.get_position().x1+0.015, ax.get_position().y0, 0.02, ax.get_position().height])\n",
    "    cbar    = fig.colorbar(imT, cax=cax, extend='both')\n",
    "    cbar.ax.tick_params(labelsize=14)\n",
    "    cbar.set_label(label='T (K)', fontsize=14)\n",
    "    ax.set_xticks(np.arange(0, 128.1, 40))\n",
    "    ax.set_xticklabels(np.arange(0, 128.1, 40)*0.2, fontsize=14)\n",
    "    ax.set_xlabel('km', fontsize=14)\n",
    "    ax.set_yticks(np.arange(0, 128.1, 40))\n",
    "    ax.set_yticklabels(np.arange(0, 128.1, 40)*0.2, fontsize=14)\n",
    "    ax.set_ylabel('km', fontsize=14)\n",
    "    ax.set_title('Temp. Field @ 1000m', loc='left', fontsize=16)\n",
    "    ax.set_title(time_now.strftime('%H:%M'), loc='right', fontsize=16)\n",
    "    plt.savefig(f'/data/mlcloud/ch995334/hw1/T_animation/dt5_{time_now.strftime(\"%d%H%M\")}.png', \n",
    "                facecolor='w', bbox_inches='tight', dpi=400)\n",
    "    time_now= time_now+timedelta(minutes=1)"
   ]
  },
  {
   "cell_type": "code",
   "execution_count": null,
   "id": "84f19032",
   "metadata": {},
   "outputs": [],
   "source": [
    "# qv field 1000m\n",
    "time_now    = datetime(2024, 1, 1, 5, 0, 0)\n",
    "for tt in range(u1000.shape[0]):\n",
    "    fig, ax = plt.subplots(figsize=(6, 6))\n",
    "    imT     = ax.imshow(T1000[tt, ...], vmin=286.6, vmax=287.6, origin='lower', cmap=cmaps.cmocean_matter)\n",
    "    cax     = fig.add_axes([ax.get_position().x1+0.015, ax.get_position().y0, 0.02, ax.get_position().height])\n",
    "    cbar    = fig.colorbar(imT, cax=cax, extend='both')\n",
    "    cbar.ax.tick_params(labelsize=14)\n",
    "    cbar.set_label(label='T (K)', fontsize=14)\n",
    "    ax.set_xticks(np.arange(0, 128.1, 40))\n",
    "    ax.set_xticklabels(np.arange(0, 128.1, 40)*0.2, fontsize=14)\n",
    "    ax.set_xlabel('km', fontsize=14)\n",
    "    ax.set_yticks(np.arange(0, 128.1, 40))\n",
    "    ax.set_yticklabels(np.arange(0, 128.1, 40)*0.2, fontsize=14)\n",
    "    ax.set_ylabel('km', fontsize=14)\n",
    "    ax.set_title('Temp. Field @ 1000m', loc='left', fontsize=16)\n",
    "    ax.set_title(time_now.strftime('%H:%M'), loc='right', fontsize=16)\n",
    "    plt.savefig(f'/data/mlcloud/ch995334/hw1/T_animation/dt5_{time_now.strftime(\"%d%H%M\")}.png', \n",
    "                facecolor='w', bbox_inches='tight', dpi=400)\n",
    "    time_now= time_now+timedelta(minutes=1)"
   ]
  },
  {
   "cell_type": "code",
   "execution_count": null,
   "id": "99690c26",
   "metadata": {},
   "outputs": [],
   "source": [
    "level"
   ]
  },
  {
   "cell_type": "markdown",
   "id": "12801494",
   "metadata": {},
   "source": [
    "### Test"
   ]
  },
  {
   "cell_type": "code",
   "execution_count": null,
   "id": "29f3588a",
   "metadata": {},
   "outputs": [],
   "source": [
    "da_qv"
   ]
  },
  {
   "cell_type": "code",
   "execution_count": null,
   "id": "3d7af91b",
   "metadata": {},
   "outputs": [],
   "source": [
    "ds_dyn"
   ]
  },
  {
   "cell_type": "code",
   "execution_count": null,
   "id": "a610365b",
   "metadata": {},
   "outputs": [],
   "source": [
    "plt.plot(np.arange(da_dsw.shape[0]), da_dsw[:, 0, 0])\n",
    "plt.xticks(np.arange(0, 721, 60))\n",
    "plt.title('Downward SW @ TOA')"
   ]
  },
  {
   "cell_type": "code",
   "execution_count": null,
   "id": "0213e243",
   "metadata": {},
   "outputs": [],
   "source": [
    "plt.plot(np.arange(da_TH.shape[0]), da_TH[:, 0, 0]*1000)\n",
    "plt.xticks(np.arange(0, 721, 60))\n",
    "plt.title('Surface flux of potential temp.')"
   ]
  },
  {
   "cell_type": "code",
   "execution_count": null,
   "id": "9bf5ef3d",
   "metadata": {},
   "outputs": [],
   "source": [
    "plt.plot(np.arange(da_QV.shape[0]), da_QV[:, 0, 0])\n",
    "plt.xticks(np.arange(0, 721, 60))\n",
    "plt.title('Surface flux of water vapor')"
   ]
  },
  {
   "cell_type": "code",
   "execution_count": null,
   "id": "cfbbec9d",
   "metadata": {},
   "outputs": [],
   "source": [
    "np.fromfile('../VVM/DATA/pbl_control/bar.dat')"
   ]
  },
  {
   "cell_type": "code",
   "execution_count": null,
   "id": "af91f1b8",
   "metadata": {},
   "outputs": [],
   "source": []
  }
 ],
 "metadata": {
  "kernelspec": {
   "display_name": "Python 3",
   "language": "python",
   "name": "python3"
  },
  "language_info": {
   "codemirror_mode": {
    "name": "ipython",
    "version": 3
   },
   "file_extension": ".py",
   "mimetype": "text/x-python",
   "name": "python",
   "nbconvert_exporter": "python",
   "pygments_lexer": "ipython3",
   "version": "3.9.7"
  }
 },
 "nbformat": 4,
 "nbformat_minor": 5
}
