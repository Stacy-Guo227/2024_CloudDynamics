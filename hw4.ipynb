{
 "cells": [
  {
   "cell_type": "markdown",
   "id": "f1fdea03-03e3-459d-8140-c28ae85c0203",
   "metadata": {},
   "source": [
    "### Import"
   ]
  },
  {
   "cell_type": "code",
   "execution_count": 1,
   "id": "b47d7522-f5d0-45ed-be74-9b8a7e11956a",
   "metadata": {},
   "outputs": [],
   "source": [
    "import numpy as np\n",
    "import pandas as pd\n",
    "import xarray as xr\n",
    "from datetime import *\n",
    "from vvm_var_func import *\n",
    "\n",
    "import matplotlib.pyplot as plt\n",
    "import matplotlib.colors as colors\n",
    "import seaborn.colors.xkcd_rgb as c\n",
    "import cmaps\n",
    "import cartopy.crs as ccrs\n",
    "import cartopy.feature as cfeature"
   ]
  },
  {
   "cell_type": "markdown",
   "id": "9b91d318-4a86-4a6f-b3fd-0102dd03b1c4",
   "metadata": {},
   "source": [
    "### Case assigning"
   ]
  },
  {
   "cell_type": "code",
   "execution_count": 3,
   "id": "ae5a4980-1e3c-4802-a02e-1aeb0361a9c0",
   "metadata": {},
   "outputs": [],
   "source": [
    "case_name = 'pbl_mod_tracer_chem'"
   ]
  },
  {
   "cell_type": "markdown",
   "id": "1f29808a-e9e8-4435-bb5f-cf9aeec2229b",
   "metadata": {
    "tags": []
   },
   "source": [
    "### Load multi-timestep varfiles"
   ]
  },
  {
   "cell_type": "code",
   "execution_count": 4,
   "id": "0c1dbc61-8909-462a-8705-4693c77f7428",
   "metadata": {},
   "outputs": [],
   "source": [
    "# Get varname\n",
    "var_fname, var_longname = create_var_dict(case_name)"
   ]
  },
  {
   "cell_type": "code",
   "execution_count": 7,
   "id": "666243f9-0dbb-41ac-b6f7-399fb0b8f78b",
   "metadata": {
    "collapsed": true,
    "jupyter": {
     "outputs_hidden": true
    },
    "tags": []
   },
   "outputs": [
    {
     "data": {
      "text/plain": [
       "{'zc': 'Dynamic',\n",
       " 'zb': 'Radiation',\n",
       " 'yc': 'Surface',\n",
       " 'xc': 'Surface',\n",
       " 'fusw': 'Radiation',\n",
       " 'fdsw': 'Radiation',\n",
       " 'fulw': 'Radiation',\n",
       " 'fdlw': 'Radiation',\n",
       " 'dtradsw': 'Radiation',\n",
       " 'dtradlw': 'Radiation',\n",
       " 'cldfrc': 'Radiation',\n",
       " 'fuswtoa': 'Radiation',\n",
       " 'fdswtoa': 'Radiation',\n",
       " 'fulwtoa': 'Radiation',\n",
       " 'emissi': 'LandSurface',\n",
       " 'cmc': 'LandSurface',\n",
       " 't1': 'LandSurface',\n",
       " 'ST1': 'LandSurface',\n",
       " 'ST2': 'LandSurface',\n",
       " 'ST3': 'LandSurface',\n",
       " 'ST4': 'LandSurface',\n",
       " 'SM1': 'LandSurface',\n",
       " 'SM2': 'LandSurface',\n",
       " 'SM3': 'LandSurface',\n",
       " 'SM4': 'LandSurface',\n",
       " 'SL1': 'LandSurface',\n",
       " 'SL2': 'LandSurface',\n",
       " 'SL3': 'LandSurface',\n",
       " 'SL4': 'LandSurface',\n",
       " 'snowh': 'LandSurface',\n",
       " 'sneqv': 'LandSurface',\n",
       " 'albedo': 'LandSurface',\n",
       " 'ch': 'LandSurface',\n",
       " 'cm': 'LandSurface',\n",
       " 'eta': 'Dynamic',\n",
       " 'fdown': 'LandSurface',\n",
       " 'ec': 'LandSurface',\n",
       " 'edir': 'LandSurface',\n",
       " 'et1': 'LandSurface',\n",
       " 'et2': 'LandSurface',\n",
       " 'et3': 'LandSurface',\n",
       " 'et4': 'LandSurface',\n",
       " 'ett': 'LandSurface',\n",
       " 'esnow': 'LandSurface',\n",
       " 'drip': 'LandSurface',\n",
       " 'dew': 'LandSurface',\n",
       " 'beta': 'LandSurface',\n",
       " 'etp': 'LandSurface',\n",
       " 'ssoil': 'LandSurface',\n",
       " 'flx1': 'LandSurface',\n",
       " 'flx2': 'LandSurface',\n",
       " 'flx3': 'LandSurface',\n",
       " 'snomlt': 'LandSurface',\n",
       " 'sncovr': 'LandSurface',\n",
       " 'runoff1': 'LandSurface',\n",
       " 'runoff2': 'LandSurface',\n",
       " 'runoff3': 'LandSurface',\n",
       " 'rc': 'LandSurface',\n",
       " 'pc': 'LandSurface',\n",
       " 'rsmin': 'LandSurface',\n",
       " 'xlai': 'LandSurface',\n",
       " 'rcs': 'LandSurface',\n",
       " 'rct': 'LandSurface',\n",
       " 'rcq': 'LandSurface',\n",
       " 'rcsoil': 'LandSurface',\n",
       " 'soilw': 'LandSurface',\n",
       " 'soilm': 'LandSurface',\n",
       " 'q1': 'LandSurface',\n",
       " 'smav1': 'LandSurface',\n",
       " 'smav2': 'LandSurface',\n",
       " 'smav3': 'LandSurface',\n",
       " 'smav4': 'LandSurface',\n",
       " 'smcwlt': 'LandSurface',\n",
       " 'smcdry': 'LandSurface',\n",
       " 'smcref': 'LandSurface',\n",
       " 'smcmax': 'LandSurface',\n",
       " 'INERT': 'Chemicals',\n",
       " 'O3': 'Chemicals',\n",
       " 'NO': 'Chemicals',\n",
       " 'NO2': 'Chemicals',\n",
       " 'NO3': 'Chemicals',\n",
       " 'N2O5': 'Chemicals',\n",
       " 'H2O': 'Chemicals',\n",
       " 'HNO3': 'Chemicals',\n",
       " 'O1D': 'Chemicals',\n",
       " 'CH4': 'Chemicals',\n",
       " 'CH2O': 'Chemicals',\n",
       " 'CH3O2': 'Chemicals',\n",
       " 'OH': 'Chemicals',\n",
       " 'HO2': 'Chemicals',\n",
       " 'CO': 'Chemicals',\n",
       " 'PRODUC': 'Chemicals',\n",
       " 'O2': 'Chemicals',\n",
       " 'N2': 'Chemicals',\n",
       " 'H2O2': 'Chemicals',\n",
       " 'ISO': 'Chemicals',\n",
       " 'MVK': 'Chemicals',\n",
       " 'RO2': 'Chemicals',\n",
       " 'th': 'Thermodynamic',\n",
       " 'qv': 'Thermodynamic',\n",
       " 'qc': 'Thermodynamic',\n",
       " 'qr': 'Thermodynamic',\n",
       " 'qi': 'Thermodynamic',\n",
       " 'nc': 'Thermodynamic',\n",
       " 'nr': 'Thermodynamic',\n",
       " 'ni': 'Thermodynamic',\n",
       " 'qrim': 'Thermodynamic',\n",
       " 'brim': 'Thermodynamic',\n",
       " 'tr01': 'Tracer',\n",
       " 'tr02': 'Tracer',\n",
       " 'tr03': 'Tracer',\n",
       " 'xi': 'Dynamic',\n",
       " 'zeta': 'Dynamic',\n",
       " 'u': 'Dynamic',\n",
       " 'v': 'Dynamic',\n",
       " 'w': 'Dynamic',\n",
       " 'uw': 'Surface',\n",
       " 'wv': 'Surface',\n",
       " 'wth': 'Surface',\n",
       " 'wqv': 'Surface',\n",
       " 'sprec': 'Surface',\n",
       " 'tg': 'Surface',\n",
       " 'olr': 'Surface'}"
      ]
     },
     "execution_count": 7,
     "metadata": {},
     "output_type": "execute_result"
    }
   ],
   "source": [
    "var_fname"
   ]
  },
  {
   "cell_type": "code",
   "execution_count": 6,
   "id": "671ed951-d835-482a-9a11-e6f1344fb1d8",
   "metadata": {
    "collapsed": true,
    "jupyter": {
     "outputs_hidden": true
    },
    "tags": []
   },
   "outputs": [
    {
     "data": {
      "text/plain": [
       "{'vertical height of model layers, MSL': 'zc',\n",
       " 'vertical height of model interfaces, MSL': 'zb',\n",
       " 'y-coordinate of grid cell centers in Cartesian system': 'yc',\n",
       " 'x-coordinate of grid cell centers in Cartesian system': 'xc',\n",
       " 'Upward flux of shortwave radiation': 'fusw',\n",
       " 'Downward flux of shortwave radiation': 'fdsw',\n",
       " 'Upward flux of longwave radiation': 'fulw',\n",
       " 'Downward flux of longwave radiation': 'fdlw',\n",
       " 'Net shortwave heating rate': 'dtradsw',\n",
       " 'Net longwave heating rate': 'dtradlw',\n",
       " 'Cloud fraction': 'cldfrc',\n",
       " 'Upward flux of shortwave radiation at TOA': 'fuswtoa',\n",
       " 'Downward flux of shortwave radiation at TOA': 'fdswtoa',\n",
       " 'Upward flux of longwave radiation at TOA': 'fulwtoa',\n",
       " 'emissivity': 'emissi',\n",
       " 'canopy moisture content': 'cmc',\n",
       " 'skin temperature': 't1',\n",
       " 'soil temperature layer 1': 'ST1',\n",
       " 'soil temperature layer 2': 'ST2',\n",
       " 'soil temperature layer 3': 'ST3',\n",
       " 'soil temperature layer 4': 'ST4',\n",
       " 'soil moisture layer 1': 'SM1',\n",
       " 'soil moisture layer 2': 'SM2',\n",
       " 'soil moisture layer 3': 'SM3',\n",
       " 'soil moisture layer 4': 'SM4',\n",
       " 'soil liquid layer 1': 'SL1',\n",
       " 'soil liquid layer 2': 'SL2',\n",
       " 'soil liquid layer 3': 'SL3',\n",
       " 'soil liquid layer 4': 'SL4',\n",
       " 'snow depth': 'snowh',\n",
       " 'water equivalent snow depth': 'sneqv',\n",
       " 'surface albedo(including snow-cover effects)': 'albedo',\n",
       " 'surface exchange coefficient for heat and moisture': 'ch',\n",
       " 'surface exchange coefficient for momentum': 'cm',\n",
       " 'latent heat flux(evapotranspiration)': 'eta',\n",
       " 'radiation forcing at the surface': 'fdown',\n",
       " 'canopy water evaporation': 'ec',\n",
       " 'direct soil evaporation': 'edir',\n",
       " 'plant transpiration layer 1': 'et1',\n",
       " 'plant transpiration layer 2': 'et2',\n",
       " 'plant transpiration layer 3': 'et3',\n",
       " 'plant transpiration layer 4': 'et4',\n",
       " 'total plant transpiration': 'ett',\n",
       " 'sublimation from snowpack': 'esnow',\n",
       " 'precipitation falling through canopy': 'drip',\n",
       " 'dewfall': 'dew',\n",
       " 'ratio of actual to potential evapotranspiration': 'beta',\n",
       " 'potentail evapotranspiration': 'etp',\n",
       " 'soil heat flux': 'ssoil',\n",
       " 'latent heat flux from precipitation accumulating as snow': 'flx1',\n",
       " 'latent heat flux from freezing rain converting to ice': 'flx2',\n",
       " 'latent heat flux from melting snow': 'flx3',\n",
       " 'snow melt water': 'snomlt',\n",
       " 'fractional snow cover': 'sncovr',\n",
       " 'surface runoff': 'runoff1',\n",
       " 'subsurface runoff': 'runoff2',\n",
       " 'internal soil layer runoff': 'runoff3',\n",
       " 'canopy resistance': 'rc',\n",
       " 'plant coefficient': 'pc',\n",
       " 'minimum canopy resistance': 'rsmin',\n",
       " 'leaf area index': 'xlai',\n",
       " 'incoming solar rc factor': 'rcs',\n",
       " 'air temperature rc factor': 'rct',\n",
       " 'atmospheric water vapor deficit rc factor': 'rcq',\n",
       " 'soil moisture rc factor': 'rcsoil',\n",
       " 'available soil moisture in the root zone': 'soilw',\n",
       " 'total soil column moisture content': 'soilm',\n",
       " 'effective mixing ratio at the surface': 'q1',\n",
       " 'soil moisture availability at level 1': 'smav1',\n",
       " 'soil moisture availability at level 2': 'smav2',\n",
       " 'soil moisture availability at level 3': 'smav3',\n",
       " 'soil moisture availability at level 4': 'smav4',\n",
       " 'wilting point': 'smcwlt',\n",
       " 'dry soil moisture threshold where direct evaporation from the top layer ends': 'smcdry',\n",
       " 'soil moisture threshold where transpiration begins to stress': 'smcref',\n",
       " 'porosity': 'smcmax',\n",
       " 'INERT': 'INERT',\n",
       " 'O3': 'O3',\n",
       " 'NO': 'NO',\n",
       " 'NO2': 'NO2',\n",
       " 'NO3': 'NO3',\n",
       " 'N2O5': 'N2O5',\n",
       " 'H2O': 'H2O',\n",
       " 'HNO3': 'HNO3',\n",
       " 'O1D': 'O1D',\n",
       " 'CH4': 'CH4',\n",
       " 'CH2O': 'CH2O',\n",
       " 'CH3O2': 'CH3O2',\n",
       " 'OH': 'OH',\n",
       " 'HO2': 'HO2',\n",
       " 'CO': 'CO',\n",
       " 'PRODUC': 'PRODUC',\n",
       " 'O2': 'O2',\n",
       " 'N2': 'N2',\n",
       " 'H2O2': 'H2O2',\n",
       " 'ISO': 'ISO',\n",
       " 'MVK': 'MVK',\n",
       " 'RO2': 'RO2',\n",
       " 'potential temperature': 'th',\n",
       " 'water vapor mixing ratio': 'qv',\n",
       " 'cloud water mixing ratio': 'qc',\n",
       " 'rain mixing ratio': 'qr',\n",
       " 'cloud ice mixing ratio': 'qi',\n",
       " 'cloud water number mixing ratio': 'nc',\n",
       " 'rain number mixing ratio': 'nr',\n",
       " 'cloud ice number mixing ratio': 'ni',\n",
       " 'riming cloud ice mixing ratio': 'qrim',\n",
       " 'riming cloud ice volume mixing ratio': 'brim',\n",
       " 'passive tracer mixing ratio 01': 'tr01',\n",
       " 'passive tracer mixing ratio 02': 'tr02',\n",
       " 'passive tracer mixing ratio 03': 'tr03',\n",
       " 'x-component of vorticity': 'xi',\n",
       " 'y-component of vorticity': 'eta',\n",
       " 'z-component of vorticity': 'zeta',\n",
       " 'zonal velocity': 'u',\n",
       " 'meridional velocity': 'v',\n",
       " 'vertical velocity': 'w',\n",
       " 'Surface flux of u-momentum': 'uw',\n",
       " 'Surface flux of v-momentum': 'wv',\n",
       " 'Surface flux of potential temperature': 'wth',\n",
       " 'Surface flux of water vapor': 'wqv',\n",
       " 'Surface precipitation rate': 'sprec',\n",
       " 'Skin and sea surface temperature': 'tg',\n",
       " 'Outgoing longwave radiation': 'olr'}"
      ]
     },
     "execution_count": 6,
     "metadata": {},
     "output_type": "execute_result"
    }
   ],
   "source": [
    "var_longname"
   ]
  },
  {
   "cell_type": "code",
   "execution_count": 8,
   "id": "90b65211-29ec-4127-9bba-f74d955867d5",
   "metadata": {},
   "outputs": [],
   "source": [
    "ds_dyn = xr.open_mfdataset(f'/data/mlcloud/ch995334/VVM/DATA/{case_name}/archive/{case_name}.L.Dynamic*')"
   ]
  },
  {
   "cell_type": "code",
   "execution_count": 11,
   "id": "52f87072-5872-4c06-9693-e62fc676949a",
   "metadata": {},
   "outputs": [],
   "source": [
    "ds_thm = xr.open_mfdataset(f'/data/mlcloud/ch995334/VVM/DATA/{case_name}/archive/{case_name}.L.Thermodynamic*')"
   ]
  },
  {
   "cell_type": "code",
   "execution_count": 12,
   "id": "ca19660d-6210-4798-9a24-ae5b17ec9606",
   "metadata": {},
   "outputs": [],
   "source": [
    "ds_chem= xr.open_mfdataset(f'/data/mlcloud/ch995334/VVM/DATA/{case_name}/archive/{case_name}.L.Chemical*')"
   ]
  },
  {
   "cell_type": "code",
   "execution_count": 13,
   "id": "41ad56d7-81e5-48bc-af78-a18346121f42",
   "metadata": {},
   "outputs": [],
   "source": [
    "ds_tra = xr.open_mfdataset(f'/data/mlcloud/ch995334/VVM/DATA/{case_name}/archive/{case_name}.L.Tracer*')"
   ]
  },
  {
   "cell_type": "markdown",
   "id": "e2da3107-9062-49ba-aa47-957c7dc5210e",
   "metadata": {},
   "source": [
    "### PBL_boundary"
   ]
  },
  {
   "cell_type": "code",
   "execution_count": 14,
   "id": "f24ee052-1f20-4317-b4c3-81cbfe414bf7",
   "metadata": {},
   "outputs": [],
   "source": [
    "u, v, w = ds_dyn.u, ds_dyn.v, ds_dyn.w"
   ]
  },
  {
   "cell_type": "code",
   "execution_count": 15,
   "id": "e3a58152-0776-4c3c-b591-f50d94d7cdfe",
   "metadata": {},
   "outputs": [],
   "source": [
    "th      = ds_thm.th"
   ]
  },
  {
   "cell_type": "markdown",
   "id": "98d6222a-79d0-4b2f-ae7b-2801a275b8dc",
   "metadata": {},
   "source": [
    "#### lat-averaged TKE"
   ]
  },
  {
   "cell_type": "code",
   "execution_count": 46,
   "id": "716f2799-9eaf-4ff5-bcea-f18ec6e45586",
   "metadata": {},
   "outputs": [],
   "source": [
    "tke   = (u**2+v**2+w**2).mean(dim=['lat'])"
   ]
  },
  {
   "cell_type": "code",
   "execution_count": 47,
   "id": "2ac02601-428b-4be7-8fe9-dd5890d09354",
   "metadata": {},
   "outputs": [],
   "source": [
    "arr_tke = tke.values"
   ]
  },
  {
   "cell_type": "code",
   "execution_count": 48,
   "id": "2fa0397b-0263-4d18-b717-834fb909ad47",
   "metadata": {},
   "outputs": [
    {
     "data": {
      "text/plain": [
       "(721, 50, 128)"
      ]
     },
     "execution_count": 48,
     "metadata": {},
     "output_type": "execute_result"
    }
   ],
   "source": [
    "arr_tke.shape"
   ]
  },
  {
   "cell_type": "markdown",
   "id": "08d5efa5-2b1d-488a-85e9-f6d91cc707aa",
   "metadata": {},
   "source": [
    "#### lat-averaged Enstrophy"
   ]
  },
  {
   "cell_type": "code",
   "execution_count": 18,
   "id": "31dbad7b-9023-40e6-beb8-ceeb46614483",
   "metadata": {},
   "outputs": [],
   "source": [
    "xi, eta, zeta = ds_dyn.xi, ds_dyn.eta, ds_dyn.zeta"
   ]
  },
  {
   "cell_type": "code",
   "execution_count": 59,
   "id": "ae78e80d-bd78-4c7c-b468-b95b76143c64",
   "metadata": {},
   "outputs": [],
   "source": [
    "enst   = (xi**2+eta**2+zeta**2).mean(dim=['lat'])"
   ]
  },
  {
   "cell_type": "code",
   "execution_count": 60,
   "id": "7ec50fd5-c02b-428a-9ccc-5ce1e5b39623",
   "metadata": {},
   "outputs": [],
   "source": [
    "arr_enst = enst.values"
   ]
  },
  {
   "cell_type": "markdown",
   "id": "49a3b4c9-2009-4d82-8660-5b4338226aa3",
   "metadata": {},
   "source": [
    "#### Height where theta=theta(lev=0)+0.5K"
   ]
  },
  {
   "cell_type": "code",
   "execution_count": 22,
   "id": "8e4417b2-3686-4c25-9dca-675edee0c0b7",
   "metadata": {},
   "outputs": [],
   "source": [
    "def find_level(pt, levels):\n",
    "    # Iterate over levels and find the first level where pt >= pt[lev0] + 0.5\n",
    "    target_temp = pt[0] + 0.5\n",
    "    idx = np.argmax(pt >= target_temp, axis=0)\n",
    "    \n",
    "    # Set to 0 if no level satisfies the condition\n",
    "    idx = np.where(np.any(pt >= target_temp, axis=0), idx, 0)\n",
    "    return levels[idx]"
   ]
  },
  {
   "cell_type": "code",
   "execution_count": 61,
   "id": "f71c57d5-71a5-4570-ae8d-123a4b55b9c3",
   "metadata": {},
   "outputs": [],
   "source": [
    "th05 = xr.apply_ufunc(\n",
    "    find_level,\n",
    "    th,\n",
    "    th.lev,\n",
    "    input_core_dims=[['lev'], ['lev']],\n",
    "    vectorize=True,  # Apply across all other dimensions\n",
    "    dask=\"parallelized\",  # Use Dask for larger datasets\n",
    "    output_dtypes=[float]  # Output will be float\n",
    ").mean(dim=['lat'])"
   ]
  },
  {
   "cell_type": "code",
   "execution_count": 62,
   "id": "2669f512-26a7-409b-ac69-f077d77121b8",
   "metadata": {},
   "outputs": [],
   "source": [
    "arr_th05 = th05.values"
   ]
  },
  {
   "cell_type": "code",
   "execution_count": 67,
   "id": "20d174d5-41e3-4c0f-b59d-bcad174f60c7",
   "metadata": {},
   "outputs": [
    {
     "data": {
      "text/plain": [
       "(721, 128)"
      ]
     },
     "execution_count": 67,
     "metadata": {},
     "output_type": "execute_result"
    }
   ],
   "source": [
    "arr_th05.shape"
   ]
  },
  {
   "cell_type": "markdown",
   "id": "eba23fbf-a426-4f69-8a6d-56fba31d62de",
   "metadata": {},
   "source": [
    "#### d_theta/dz max"
   ]
  },
  {
   "cell_type": "code",
   "execution_count": 25,
   "id": "033091d8-1d50-4a30-a112-37b9c4520c8b",
   "metadata": {},
   "outputs": [],
   "source": [
    "arr_th   = th.values"
   ]
  },
  {
   "cell_type": "code",
   "execution_count": 26,
   "id": "90cad4de-f6ec-446d-ab0d-de1e35e1559b",
   "metadata": {},
   "outputs": [],
   "source": [
    "arr_th_slope = (arr_th[:, 1:, ...]-arr_th[:, :-1, ...])/0.02"
   ]
  },
  {
   "cell_type": "code",
   "execution_count": 27,
   "id": "ffb72228-be18-4834-88fc-5f77cf3e7a33",
   "metadata": {},
   "outputs": [],
   "source": [
    "arr_slope_idx   = np.argmax(arr_th_slope, axis=1)"
   ]
  },
  {
   "cell_type": "code",
   "execution_count": 28,
   "id": "8b1472b1-54f4-4222-97ac-4d2d14c12bfc",
   "metadata": {},
   "outputs": [],
   "source": [
    "slope_idx   = xr.DataArray(arr_slope_idx, dims=['time', 'lat', 'lon'])"
   ]
  },
  {
   "cell_type": "code",
   "execution_count": 63,
   "id": "763e3d8f-edc4-469a-9319-16c75a3a940c",
   "metadata": {},
   "outputs": [],
   "source": [
    "dthdz_H   = th.lev.isel(lev=slope_idx).mean(dim=['lat'])"
   ]
  },
  {
   "cell_type": "code",
   "execution_count": 64,
   "id": "314a0b03-0f5e-44d1-9967-e85b4e938335",
   "metadata": {},
   "outputs": [],
   "source": [
    "arr_dthdz_H   = dthdz_H.values"
   ]
  },
  {
   "cell_type": "code",
   "execution_count": 66,
   "id": "0bfcaa4a-00cc-4040-9d7d-5c5d8ce6f79a",
   "metadata": {},
   "outputs": [
    {
     "data": {
      "text/plain": [
       "(721, 128)"
      ]
     },
     "execution_count": 66,
     "metadata": {},
     "output_type": "execute_result"
    }
   ],
   "source": [
    "arr_dthdz_H.shape"
   ]
  },
  {
   "cell_type": "markdown",
   "id": "0d1584c6-0c00-41fd-83bd-0a2384cfaf71",
   "metadata": {},
   "source": [
    "### Tracer"
   ]
  },
  {
   "cell_type": "code",
   "execution_count": 31,
   "id": "e1ac7c80-3ab6-4d57-b4b0-3e13c2cc67b5",
   "metadata": {},
   "outputs": [],
   "source": [
    "tr01, tr02, tr03 = ds_tra.tr01, ds_tra.tr02, ds_tra.tr03"
   ]
  },
  {
   "cell_type": "markdown",
   "id": "3b954467-9ba6-406b-99e8-91a94313945e",
   "metadata": {},
   "source": [
    "#### Tracer 1 (initiate level index=8)"
   ]
  },
  {
   "cell_type": "code",
   "execution_count": 167,
   "id": "e546c2d9-ba16-4afb-8d1c-12f99209e231",
   "metadata": {},
   "outputs": [],
   "source": [
    "def Plot_tr01_ymean(time:int, figpath=False):\n",
    "    fig, ax = plt.subplots(figsize=(10, 4))\n",
    "    ax.grid(':', linewidth=0.5)\n",
    "    x      = np.arange(tke.lon.shape[0])\n",
    "    # TKE\n",
    "    #print(arr_tke[time, ...].max())\n",
    "    cs     = ax.contour(x, tke.lev, arr_tke[time, ...], \n",
    "                        levels=[0.25], colors='w', linewidths=3)\n",
    "    ax.clabel(cs, fmt='%4.2f', fontsize=12)\n",
    "    # Theta+0.5\n",
    "    ax.plot(x, arr_th05[time, :], 'k', linewidth=3, label=r'$\\theta$(z=0) +0.5K')\n",
    "    # max. theta variability\n",
    "    ax.plot(x, arr_dthdz_H[time, :], color='grey', linewidth=3, label=r'd$\\theta$/dz max.')\n",
    "    \n",
    "    # Tracer 01\n",
    "    bounds2= np.arange(0, 0.141, 0.02)\n",
    "    im     = ax.contourf(x, tr01.lev, tr01.isel(time=time).mean(dim='lat'), \n",
    "                         levels=bounds2, cmap=cmaps.cmocean_amp, extend='max')\n",
    "    cbar   = fig.colorbar(im, extend='max')\n",
    "    cbar.set_ticks(ticks=bounds2, labels=bounds2)\n",
    "    cbar.ax.tick_params(labelsize=13)\n",
    "    cbar.set_label('kg/kg', fontsize=14)\n",
    "    # Info settings\n",
    "    ax.set_xticks(np.arange(0, x.shape[0]+0.1, 32))\n",
    "    ax.set_xticklabels(np.arange(0, 256.1, 64).astype(int), fontsize=13)\n",
    "    ax.set_xlabel('x (km)', fontsize=14)\n",
    "    ax.set_yticks(np.arange(0, 1.9, 0.25))\n",
    "    ax.set_yticklabels(np.arange(0, 1.9, 0.25), fontsize=13)\n",
    "    ax.set_ylabel('Height (km)', fontsize=14)\n",
    "    ax.legend(loc='upper right', fontsize=14)\n",
    "    ax.set_title('Tracer 01', fontsize=16)\n",
    "    ax.set_title('y-mean', loc='right', fontsize=12)\n",
    "    ax.set_title(f'Time = {(datetime(2024, 1, 1, 5)+timedelta(seconds=120*time)).strftime(\"%H:%M:%S\")}', \n",
    "                 loc='left', fontsize=12)\n",
    "    if figpath:\n",
    "        plt.savefig(f'./Figure/{figpath}/timestep_{time:03d}.png', bbox_inches='tight',\n",
    "                    facecolor='w', dpi=400)\n",
    "    else:\n",
    "        plt.show()"
   ]
  },
  {
   "cell_type": "code",
   "execution_count": null,
   "id": "03826ed6-3fcd-46df-b2ca-5f262eda23a7",
   "metadata": {
    "tags": []
   },
   "outputs": [],
   "source": [
    "for i in range(tr01.time.shape[0]):\n",
    "    Plot_tr01_ymean(time=i, figpath='hw4_tracer01')"
   ]
  },
  {
   "cell_type": "code",
   "execution_count": null,
   "id": "ae26254e-99ed-4013-a811-41dc29de7fd8",
   "metadata": {
    "tags": []
   },
   "outputs": [],
   "source": [
    "!ffmpeg -r 10 -f image2 -y -pattern_type glob -i './Figure/hw4_tracer01/*.png' -q:v 1 -vcodec libx264 -crf 25 -pix_fmt yuv420p -vf \"pad=ceil(iw/2)*2:ceil(ih/2)*2\" ./Figure/hw4_tracer01/hw4_tr01_ymean.mp4"
   ]
  },
  {
   "cell_type": "markdown",
   "id": "9e01b263-70eb-4056-b8c4-db75a1f29fde",
   "metadata": {},
   "source": [
    "#### Tracer 02"
   ]
  },
  {
   "cell_type": "code",
   "execution_count": 171,
   "id": "cc0185b2-2e49-49c5-a722-22bc66a21137",
   "metadata": {},
   "outputs": [],
   "source": [
    "def Plot_tr02_ymean(time:int, figpath=False):\n",
    "    fig, ax = plt.subplots(figsize=(10, 4))\n",
    "    ax.grid(':', linewidth=0.5)\n",
    "    x      = np.arange(tke.lon.shape[0])\n",
    "    # TKE\n",
    "    cs     = ax.contour(x, tke.lev, arr_tke[time, ...], \n",
    "                        levels=[0.25], colors='w', linewidths=3)\n",
    "    ax.clabel(cs, fmt='%4.2f', fontsize=12)\n",
    "    # Enstrophy\n",
    "    cs2    = ax.contour(x, enst.lev, arr_enst[time, ...], \n",
    "                        levels=[2e-5], colors=c['denim'], linewidths=3)\n",
    "    #ax.clabel(cs2, fmt='%4.2f', fontsize=12)\n",
    "    # Theta+0.5\n",
    "    ax.plot(x, arr_th05[time, :], 'k', linewidth=3, label=r'$\\theta$(z=0) +0.5K')\n",
    "    # max. theta variability\n",
    "    ax.plot(x, arr_dthdz_H[time, :], color='grey', linewidth=3, label=r'd$\\theta$/dz max.')\n",
    "    \n",
    "    # Tracer 02\n",
    "    bounds2= np.arange(0, 5.1, 0.5)\n",
    "    im     = ax.contourf(x, tr02.lev, tr02.isel(time=time).mean(dim='lat'), \n",
    "                         levels=bounds2, cmap=cmaps.cmocean_amp, extend='max')\n",
    "    cbar   = fig.colorbar(im, extend='max')\n",
    "    cbar.set_ticks(ticks=bounds2, labels=bounds2)\n",
    "    cbar.ax.tick_params(labelsize=13)\n",
    "    cbar.set_label('kg/kg', fontsize=14)\n",
    "    # Info settings\n",
    "    ax.set_xticks(np.arange(0, x.shape[0]+0.1, 32))\n",
    "    ax.set_xticklabels(np.arange(0, 256.1, 64).astype(int), fontsize=13)\n",
    "    ax.set_xlabel('x (km)', fontsize=14)\n",
    "    ax.set_yticks(np.arange(0, 1.9, 0.25))\n",
    "    ax.set_yticklabels(np.arange(0, 1.9, 0.25), fontsize=13)\n",
    "    ax.set_ylabel('Height (km)', fontsize=14)\n",
    "    ax.legend(loc='upper right', fontsize=14)\n",
    "    ax.set_title('Tracer 02', fontsize=16)\n",
    "    ax.set_title('y-mean', loc='right', fontsize=12)\n",
    "    ax.set_title(f'Time = {(datetime(2024, 1, 1, 5)+timedelta(seconds=120*time)).strftime(\"%H:%M:%S\")}', \n",
    "                 loc='left', fontsize=12)\n",
    "    if figpath:\n",
    "        plt.savefig(f'./Figure/{figpath}/timestep_{time:03d}.png', bbox_inches='tight', \n",
    "                    facecolor='w', dpi=400)\n",
    "    else:\n",
    "        plt.show()"
   ]
  },
  {
   "cell_type": "code",
   "execution_count": null,
   "id": "b9f15188-5d3d-44f4-afe6-66e00ebf12ec",
   "metadata": {
    "tags": []
   },
   "outputs": [],
   "source": [
    "for i in range(tr02.time.shape[0]):\n",
    "    Plot_tr02_ymean(time=i, figpath='hw4_tracer02')"
   ]
  },
  {
   "cell_type": "code",
   "execution_count": null,
   "id": "1fd29aa8-bcc5-4377-bae6-679950c43328",
   "metadata": {
    "tags": []
   },
   "outputs": [],
   "source": [
    "!ffmpeg -r 10 -f image2 -y -pattern_type glob -i './Figure/hw4_tracer02/*.png' -q:v 1 -vcodec libx264 -crf 25 -pix_fmt yuv420p -vf \"pad=ceil(iw/2)*2:ceil(ih/2)*2\" ./Figure/hw4_tracer02/hw4_tr02_ymean.mp4"
   ]
  },
  {
   "cell_type": "code",
   "execution_count": null,
   "id": "6e638319-de51-4b49-83ba-f7bc57921eea",
   "metadata": {},
   "outputs": [],
   "source": []
  }
 ],
 "metadata": {
  "kernelspec": {
   "display_name": "Python 3",
   "language": "python",
   "name": "python3"
  },
  "language_info": {
   "codemirror_mode": {
    "name": "ipython",
    "version": 3
   },
   "file_extension": ".py",
   "mimetype": "text/x-python",
   "name": "python",
   "nbconvert_exporter": "python",
   "pygments_lexer": "ipython3",
   "version": "3.9.7"
  }
 },
 "nbformat": 4,
 "nbformat_minor": 5
}
